{
 "cells": [
  {
   "cell_type": "code",
   "execution_count": 2,
   "metadata": {},
   "outputs": [
    {
     "name": "stdout",
     "output_type": "stream",
     "text": [
      "array1 type:<class 'numpy.ndarray'>\n",
      "array1 array 형태: (3,)\n",
      "array2 type:<class 'numpy.ndarray'>\n",
      "array2 array 형태:(2, 3)\n",
      "array3 type:<class 'numpy.ndarray'>\n",
      "array3 array 형태:(1, 3)\n"
     ]
    }
   ],
   "source": [
    "import numpy as np\n",
    "\n",
    "array1 = np.array([1, 2, 3])\n",
    "print(f\"array1 type:{type(array1)}\")\n",
    "print(f\"array1 array 형태: {array1.shape}\")\n",
    "\n",
    "array2 = np.array([[1, 2, 3],\n",
    "                  [2, 3, 4]])\n",
    "print(f\"array2 type:{type(array2)}\")\n",
    "print(f\"array2 array 형태:{array2.shape}\")\n",
    "\n",
    "array3 = np.array([[1, 2, 3]])\n",
    "print(f\"array3 type:{type(array3)}\")\n",
    "print(f\"array3 array 형태:{array3.shape}\")"
   ]
  },
  {
   "cell_type": "code",
   "execution_count": 2,
   "metadata": {},
   "outputs": [
    {
     "name": "stdout",
     "output_type": "stream",
     "text": [
      "array1: 1차원, array2: 2차원, array3: 2차원\n"
     ]
    }
   ],
   "source": [
    "print(f\"array1: {array1.ndim}차원, array2: {array2.ndim}차원, array3: {array3.ndim}차원\")"
   ]
  },
  {
   "cell_type": "code",
   "execution_count": 5,
   "metadata": {},
   "outputs": [
    {
     "name": "stdout",
     "output_type": "stream",
     "text": [
      "<class 'list'>\n",
      "<class 'numpy.ndarray'>\n",
      "[1 2 3] int32\n"
     ]
    }
   ],
   "source": [
    "list1 = [1, 2, 3]\n",
    "print(type(list1))\n",
    "array1 = np.array(list1)\n",
    "print(type(array1))\n",
    "print(array1, array1.dtype)"
   ]
  },
  {
   "cell_type": "code",
   "execution_count": 6,
   "metadata": {},
   "outputs": [
    {
     "name": "stdout",
     "output_type": "stream",
     "text": [
      "[1. 2. 3.] float64\n",
      "[1 2 3] int32\n",
      "[1 2 3] int32\n"
     ]
    }
   ],
   "source": [
    "#int -> float\n",
    "array_int = np.array([1, 2, 3])\n",
    "array_float = array_int.astype('float64')\n",
    "print(array_float, array_float.dtype)\n",
    "\n",
    "#float -> int\n",
    "array_int1 = array_float.astype('int32')\n",
    "print(array_int1, array_int1.dtype)\n",
    "\n",
    "#float -> int\n",
    "array_float1 = np.array([1.1, 2.1, 3.1])\n",
    "array_int2 = array_float1.astype('int32')\n",
    "print(array_int2, array_int2.dtype)"
   ]
  },
  {
   "cell_type": "code",
   "execution_count": 14,
   "metadata": {},
   "outputs": [
    {
     "name": "stdout",
     "output_type": "stream",
     "text": [
      "[0 1 2 3 4 5 6 7 8 9]\n",
      "int32 (10,)\n",
      "[0 1 2 3 4 5 6 7 8 9]\n",
      "[5 6 7 8 9]\n"
     ]
    }
   ],
   "source": [
    "#arange()\n",
    "\n",
    "array1 = np.arange(10)\n",
    "print(array1)\n",
    "print(array1.dtype, array1.shape)\n",
    "\n",
    "array2 = np.arange(0, 10)\n",
    "print(array2)\n",
    "\n",
    "array3 = np.arange(5, 10)\n",
    "print(array3)"
   ]
  },
  {
   "cell_type": "code",
   "execution_count": 15,
   "metadata": {},
   "outputs": [
    {
     "name": "stdout",
     "output_type": "stream",
     "text": [
      "[[0 0]\n",
      " [0 0]\n",
      " [0 0]]\n",
      "int32 (3, 2)\n",
      "[[1. 1.]\n",
      " [1. 1.]\n",
      " [1. 1.]]\n",
      "float64 (3, 2)\n"
     ]
    }
   ],
   "source": [
    "#zeros()\n",
    "\n",
    "z_a = np.zeros((3, 2), dtype= 'int32')\n",
    "print(z_a)\n",
    "print(z_a.dtype, z_a.shape)\n",
    "\n",
    "#ones\n",
    "o_a = np.ones((3, 2)) # no dtype -> default ( float64 )\n",
    "print(o_a)\n",
    "print(o_a.dtype, o_a.shape)"
   ]
  },
  {
   "cell_type": "code",
   "execution_count": 20,
   "metadata": {},
   "outputs": [
    {
     "name": "stdout",
     "output_type": "stream",
     "text": [
      "arr1:\n",
      "[0 1 2 3 4 5 6 7 8 9]\n",
      "arr2:\n",
      "[[0 1 2 3 4]\n",
      " [5 6 7 8 9]]\n",
      "arr3:\n",
      "[[0 1]\n",
      " [2 3]\n",
      " [4 5]\n",
      " [6 7]\n",
      " [8 9]]\n"
     ]
    }
   ],
   "source": [
    "#reshape() 특정 차원 및 크기로 변환\n",
    "\n",
    "arr1 = np.arange(10)\n",
    "print(f'arr1:\\n{arr1}')\n",
    "\n",
    "arr2 = arr1.reshape(2, 5)\n",
    "print(f'arr2:\\n{arr2}')\n",
    "\n",
    "arr3 = arr1.reshape(5, 2)\n",
    "print(f'arr3:\\n{arr3}')"
   ]
  },
  {
   "cell_type": "code",
   "execution_count": 33,
   "metadata": {},
   "outputs": [
    {
     "name": "stdout",
     "output_type": "stream",
     "text": [
      "[0 1 2 3 4 5 6 7 8 9]\n",
      "arr2 shape :(2, 5)\n",
      "arr2: \n",
      "[[0 1 2 3 4]\n",
      " [5 6 7 8 9]]\n",
      "arr3 shape :(5, 2)\n",
      "arr3: \n",
      "[[0 1]\n",
      " [2 3]\n",
      " [4 5]\n",
      " [6 7]\n",
      " [8 9]]\n",
      "arr4 shape :(10, 1)\n",
      "arr4: \n",
      "[[0]\n",
      " [1]\n",
      " [2]\n",
      " [3]\n",
      " [4]\n",
      " [5]\n",
      " [6]\n",
      " [7]\n",
      " [8]\n",
      " [9]]\n"
     ]
    }
   ],
   "source": [
    "#reshape()에 -1값을 인자로 주기\n",
    "#ndarray와 호환되는 새로운 shape으로 변환해준다.\n",
    "\n",
    "arr1 = np.arange(10)\n",
    "print(arr1)\n",
    "arr2 = arr2.reshape(-1, 5)\n",
    "print(f'arr2 shape :{arr2.shape}')\n",
    "print(f'arr2: \\n{arr2}')\n",
    "arr3 = arr1.reshape(5, -1)\n",
    "print(f'arr3 shape :{arr3.shape}')\n",
    "print(f'arr3: \\n{arr3}')\n",
    "arr4 = arr1.reshape(10, -1)\n",
    "print(f\"arr4 shape :{arr4.shape}\")\n",
    "print(f\"arr4: \\n{arr4}\")"
   ]
  },
  {
   "cell_type": "code",
   "execution_count": 6,
   "metadata": {},
   "outputs": [
    {
     "name": "stdout",
     "output_type": "stream",
     "text": [
      "a3d:\n",
      "[[[0, 1], [2, 3]], [[4, 5], [6, 7]]]\n",
      "a5:\n",
      "[[0], [1], [2], [3], [4], [5], [6], [7]]\n",
      "a5 shape: (8, 1)\n",
      "a6:\n",
      "[[0], [1], [2], [3], [4], [5], [6], [7]]\n",
      "a6.shape:(8, 1)\n"
     ]
    }
   ],
   "source": [
    "#tolist()메서드를 사용\n",
    "#ndarray -> list\n",
    "\n",
    "a1 = np.arange(8)\n",
    "a3d = a1.reshape((2, 2, 2))\n",
    "print(f'a3d:\\n{a3d.tolist()}')\n",
    "\n",
    "#3D ndarray -> 2D ndarray\n",
    "\n",
    "a5 = a3d.reshape(-1, 1)\n",
    "print(f'a5:\\n{a5.tolist()}')\n",
    "print(f'a5 shape: {a5.shape}')\n",
    "\n",
    "#1D ndarray -> 2D ndarray\n",
    "a6 = a1.reshape(-1, 1)\n",
    "print(f'a6:\\n{a6.tolist()}')\n",
    "print(f'a6.shape:{a6.shape}')"
   ]
  },
  {
   "cell_type": "code",
   "execution_count": 5,
   "metadata": {},
   "outputs": [
    {
     "name": "stdout",
     "output_type": "stream",
     "text": [
      "arr1: [1 2 3 4 5 6 7 8 9]\n",
      "value: 3\n",
      "<class 'numpy.int32'>\n"
     ]
    }
   ],
   "source": [
    "arr1 = np.arange(start=1, stop=10)\n",
    "print(f'arr1: {arr1}')\n",
    "\n",
    "value = arr1[2]\n",
    "print(f'value: {value}')\n",
    "print(type(value))"
   ]
  },
  {
   "cell_type": "code",
   "execution_count": 7,
   "metadata": {},
   "outputs": [
    {
     "name": "stdout",
     "output_type": "stream",
     "text": [
      "last : 9 second form behind : 8\n"
     ]
    }
   ],
   "source": [
    "print(f'last : {arr1[-1]} second form behind : {arr1[-2]}')"
   ]
  },
  {
   "cell_type": "code",
   "execution_count": 8,
   "metadata": {},
   "outputs": [
    {
     "name": "stdout",
     "output_type": "stream",
     "text": [
      "[500   2   3   4   5   6   7   8   9]\n"
     ]
    }
   ],
   "source": [
    "arr1[0] = 500\n",
    "print(arr1)"
   ]
  },
  {
   "cell_type": "code",
   "execution_count": 9,
   "metadata": {},
   "outputs": [
    {
     "name": "stdout",
     "output_type": "stream",
     "text": [
      "[1 2 3]\n",
      "<class 'numpy.ndarray'>\n"
     ]
    }
   ],
   "source": [
    "arr1 = np.arange(1, 10)\n",
    "arr3 = arr1[0:3]\n",
    "print(arr3)\n",
    "print(type(arr3))"
   ]
  },
  {
   "cell_type": "code",
   "execution_count": 20,
   "metadata": {},
   "outputs": [
    {
     "name": "stdout",
     "output_type": "stream",
     "text": [
      "arr2d : \n",
      "[[1 2 3]\n",
      " [4 5 6]\n",
      " [7 8 9]]\n",
      "arr2d : \n",
      "[[1 2]\n",
      " [4 5]]\n"
     ]
    }
   ],
   "source": [
    "arr1d = np.arange(1, 10)\n",
    "arr2d = arr1d.reshape(3, 3)\n",
    "print(f'arr2d : \\n{arr2d}')\n",
    "\n",
    "print(f\"arr2d : \\n{arr2d[0:2, 0:2]}\")"
   ]
  },
  {
   "cell_type": "code",
   "execution_count": 19,
   "metadata": {},
   "outputs": [
    {
     "name": "stdout",
     "output_type": "stream",
     "text": [
      "[[1 2 3]\n",
      " [4 5 6]\n",
      " [7 8 9]]\n",
      "\n",
      "[[1 2]\n",
      " [4 5]]\n",
      "\n",
      "[[1 2]\n",
      " [4 5]]\n",
      "\n",
      "[[4 5]]\n",
      "\n",
      "[[4 5]]\n"
     ]
    }
   ],
   "source": [
    "#2. 슬라이싱\n",
    "#ndarray indexing으로 범위 설정하여 출력하기\n",
    "\n",
    "#1차원 ndarray\n",
    "arr1d = np.arange(1, 10)\n",
    "\n",
    "#1차원 ndarray -> reshape 2차원 ndarray\n",
    "arr2d = arr1d.reshape(3, 3)\n",
    "\n",
    "print(arr2d)\n",
    "\n",
    "#2d ndarray를 indexing하여 출력\n",
    "print(f\"\\n{arr2d[:2, :2]}\")\n",
    "# =\n",
    "print(f\"\\n{arr2d[0:2,0:2]}\")\n",
    "\n",
    "print(f\"\\n{arr2d[1:2, :2]}\")\n",
    "# =\n",
    "print(f\"\\n{arr2d[1:2, 0:2]}\")"
   ]
  },
  {
   "cell_type": "code",
   "execution_count": 28,
   "metadata": {},
   "outputs": [
    {
     "name": "stdout",
     "output_type": "stream",
     "text": [
      "[[1 2]\n",
      " [4 5]] \n",
      "\n",
      "[[1 2]\n",
      " [4 5]]\n"
     ]
    }
   ],
   "source": [
    "#3. 팬시 인덱싱, Fancy Indexing\n",
    "# 리스트, ndarray로 인덱스 집합을 지정하면 \n",
    "# 해당 위치의 인덱스에 해당하는 ndarray를 반환하는 인덱싱 방식\n",
    "# 인덱스한 위치의 ndarray를 반환\n",
    "# ?? 슬라이싱과 펜시 인덱싱과 차이점은  무엇인가\n",
    "\n",
    "#슬라이싱\n",
    "arr1d = np.arange(1, 10)\n",
    "arr2d = arr1d.reshape(3, 3)\n",
    "\n",
    "print(arr2d[:2, :2], '\\n')\n",
    "\n",
    "#팬시 인덱싱\n",
    "\n",
    "print(arr2d[[0, 1], 0:2])"
   ]
  }
 ],
 "metadata": {
  "kernelspec": {
   "display_name": "Python 3",
   "language": "python",
   "name": "python3"
  },
  "language_info": {
   "codemirror_mode": {
    "name": "ipython",
    "version": 3
   },
   "file_extension": ".py",
   "mimetype": "text/x-python",
   "name": "python",
   "nbconvert_exporter": "python",
   "pygments_lexer": "ipython3",
   "version": "3.8.1"
  }
 },
 "nbformat": 4,
 "nbformat_minor": 5
}
