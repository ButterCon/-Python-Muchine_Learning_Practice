{
 "cells": [
  {
   "cell_type": "code",
   "execution_count": 2,
   "metadata": {},
   "outputs": [
    {
     "name": "stdout",
     "output_type": "stream",
     "text": [
      "array1 type:<class 'numpy.ndarray'>\n",
      "array1 array 형태: (3,)\n",
      "array2 type:<class 'numpy.ndarray'>\n",
      "array2 array 형태:(2, 3)\n",
      "array3 type:<class 'numpy.ndarray'>\n",
      "array3 array 형태:(1, 3)\n"
     ]
    }
   ],
   "source": [
    "import numpy as np\n",
    "\n",
    "array1 = np.array([1, 2, 3])\n",
    "print(f\"array1 type:{type(array1)}\")\n",
    "print(f\"array1 array 형태: {array1.shape}\")\n",
    "\n",
    "array2 = np.array([[1, 2, 3],\n",
    "                  [2, 3, 4]])\n",
    "print(f\"array2 type:{type(array2)}\")\n",
    "print(f\"array2 array 형태:{array2.shape}\")\n",
    "\n",
    "array3 = np.array([[1, 2, 3]])\n",
    "print(f\"array3 type:{type(array3)}\")\n",
    "print(f\"array3 array 형태:{array3.shape}\")"
   ]
  },
  {
   "cell_type": "code",
   "execution_count": null,
   "metadata": {},
   "outputs": [],
   "source": []
  }
 ],
 "metadata": {
  "kernelspec": {
   "display_name": "Python 3",
   "language": "python",
   "name": "python3"
  },
  "language_info": {
   "codemirror_mode": {
    "name": "ipython",
    "version": 3
   },
   "file_extension": ".py",
   "mimetype": "text/x-python",
   "name": "python",
   "nbconvert_exporter": "python",
   "pygments_lexer": "ipython3",
   "version": "3.8.1"
  }
 },
 "nbformat": 4,
 "nbformat_minor": 5
}
