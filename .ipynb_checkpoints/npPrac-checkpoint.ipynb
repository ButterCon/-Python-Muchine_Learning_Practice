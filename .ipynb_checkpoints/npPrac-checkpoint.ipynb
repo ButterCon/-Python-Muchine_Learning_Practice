{
 "cells": [
  {
   "cell_type": "code",
   "execution_count": null,
   "id": "based-forest",
   "metadata": {},
   "outputs": [],
   "source": [
    "import numpy as np\n",
    "\n",
    "array1 = np.array([1, 2, 3])\n",
    "print(f\"array1 type:{type(array1)}\")\n",
    "print(f\"array1 array 형태: {array1.shape}\")\n",
    "\n",
    "array2 = np.array([[1, 2, 3],\n",
    "                  [2, 3, 4]])\n",
    "print(f\"array2 type:{type(array2)})\n",
    "print(f\"array2 array 형태:{array2.shape}\")\n",
    "\n",
    "array3 = np.array([[1, 2, 3]])\n",
    "print(f\"array3 type:{type(array3)}\")\n",
    "print(f\"array3 array 형태:{array3.shape}\")"
   ]
  }
 ],
 "metadata": {
  "kernelspec": {
   "display_name": "Python 3",
   "language": "python",
   "name": "python3"
  }
 },
 "nbformat": 4,
 "nbformat_minor": 5
}
